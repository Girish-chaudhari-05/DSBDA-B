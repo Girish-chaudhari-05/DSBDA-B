{
 "cells": [
  {
   "cell_type": "code",
   "execution_count": 1,
   "id": "b311ac18",
   "metadata": {},
   "outputs": [],
   "source": [
    "import requests\n",
    "import bs4"
   ]
  },
  {
   "cell_type": "code",
   "execution_count": 2,
   "id": "6710f190",
   "metadata": {},
   "outputs": [
    {
     "data": {
      "text/plain": [
       "<Response [529]>"
      ]
     },
     "execution_count": 2,
     "metadata": {},
     "output_type": "execute_result"
    }
   ],
   "source": [
    "request1=requests.get('https://www.flipkart.com/poco-c31-royal-blue-64-gb/p/itm19effae969b86')  \n",
    "request1"
   ]
  },
  {
   "cell_type": "code",
   "execution_count": 3,
   "id": "59106aa3",
   "metadata": {},
   "outputs": [
    {
     "data": {
      "text/plain": [
       "b'Site is overloaded'"
      ]
     },
     "execution_count": 3,
     "metadata": {},
     "output_type": "execute_result"
    }
   ],
   "source": [
    "request1.content"
   ]
  },
  {
   "cell_type": "code",
   "execution_count": 4,
   "id": "46383cf9",
   "metadata": {},
   "outputs": [
    {
     "data": {
      "text/plain": [
       "<html><body><p>Site is overloaded</p></body></html>"
      ]
     },
     "execution_count": 4,
     "metadata": {},
     "output_type": "execute_result"
    }
   ],
   "source": [
    "soup=bs4.BeautifulSoup(request1.text)\n",
    "soup"
   ]
  },
  {
   "cell_type": "code",
   "execution_count": 5,
   "id": "7cb5d0a3",
   "metadata": {},
   "outputs": [],
   "source": [
    "#Fetching Review /Comments\n",
    "\n",
    "reviews=soup.find_all('div',{'class':\"_8-rIO3\"});\n",
    "for review in reviews:\n",
    "    print('#'*100)\n",
    "    print('#'*100)\n",
    "    if len(review)>1:\n",
    "        for i in range(len(review)):\n",
    "            print(review.get_text().split(',')[i]+'\\n\\n')\n",
    "    else:\n",
    "        print(review.get_text()+'\\n\\n')"
   ]
  },
  {
   "cell_type": "code",
   "execution_count": 6,
   "id": "7cf0df19",
   "metadata": {},
   "outputs": [
    {
     "ename": "AttributeError",
     "evalue": "'NoneType' object has no attribute 'get_text'",
     "output_type": "error",
     "traceback": [
      "\u001b[1;31m---------------------------------------------------------------------------\u001b[0m",
      "\u001b[1;31mAttributeError\u001b[0m                            Traceback (most recent call last)",
      "Cell \u001b[1;32mIn[6], line 2\u001b[0m\n\u001b[0;32m      1\u001b[0m \u001b[38;5;66;03m#1. Average Overall Ratings\u001b[39;00m\n\u001b[1;32m----> 2\u001b[0m ratings\u001b[38;5;241m=\u001b[39msoup\u001b[38;5;241m.\u001b[39mfind(\u001b[38;5;124m'\u001b[39m\u001b[38;5;124mdiv\u001b[39m\u001b[38;5;124m'\u001b[39m,{\u001b[38;5;124m'\u001b[39m\u001b[38;5;124mclass\u001b[39m\u001b[38;5;124m'\u001b[39m:\u001b[38;5;124m'\u001b[39m\u001b[38;5;124mcol-12-12 ggs1+C\u001b[39m\u001b[38;5;124m'\u001b[39m})\u001b[38;5;241m.\u001b[39mget_text()\n\u001b[0;32m      3\u001b[0m \u001b[38;5;28mprint\u001b[39m(ratings)\n",
      "\u001b[1;31mAttributeError\u001b[0m: 'NoneType' object has no attribute 'get_text'"
     ]
    }
   ],
   "source": [
    "#1. Average Overall Ratings\n",
    "ratings=soup.find('div',{'class':'col-12-12 ggs1+C'}).get_text()\n",
    "print(ratings)"
   ]
  },
  {
   "cell_type": "code",
   "execution_count": null,
   "id": "055a2b95",
   "metadata": {},
   "outputs": [],
   "source": [
    "#2. Individual Ratings\n",
    "\n",
    "indi_ratings=soup.find_all('div',{'class':'XQDdHH Ga3i8K'});\n",
    "for individual_rating in indi_ratings:\n",
    " print(individual_rating.get_text() + '\\n')"
   ]
  },
  {
   "cell_type": "code",
   "execution_count": null,
   "id": "eca0e652",
   "metadata": {},
   "outputs": [],
   "source": [
    "# Fetching Tags\n",
    "tags=soup.find('span',{'class':'s4NJ5L'}).get_text();\n",
    "tags"
   ]
  },
  {
   "cell_type": "code",
   "execution_count": null,
   "id": "35cd713b",
   "metadata": {},
   "outputs": [],
   "source": [
    "#Fetching Customer Name\n",
    "customer_name=soup.find_all('p',{'class':'z9E0IG'});\n",
    "for cust_name in customer_name:\n",
    " print(cust_name.get_text() +'\\n')"
   ]
  },
  {
   "cell_type": "code",
   "execution_count": null,
   "id": "d3715eb3",
   "metadata": {},
   "outputs": [],
   "source": [
    "#Fetching the price of the product\n",
    "product_price=soup.find('div',{'class':'Nx9bqj'}).get_text();\n",
    "print(product_price)"
   ]
  },
  {
   "cell_type": "code",
   "execution_count": null,
   "id": "b5a9bde9",
   "metadata": {},
   "outputs": [],
   "source": []
  },
  {
   "cell_type": "code",
   "execution_count": null,
   "id": "d5c0a930",
   "metadata": {},
   "outputs": [],
   "source": []
  },
  {
   "cell_type": "code",
   "execution_count": null,
   "id": "38e34db2",
   "metadata": {},
   "outputs": [],
   "source": []
  },
  {
   "cell_type": "code",
   "execution_count": null,
   "id": "ae898469",
   "metadata": {},
   "outputs": [],
   "source": []
  },
  {
   "cell_type": "code",
   "execution_count": null,
   "id": "eacb15b8",
   "metadata": {},
   "outputs": [],
   "source": []
  }
 ],
 "metadata": {
  "kernelspec": {
   "display_name": "Python 3 (ipykernel)",
   "language": "python",
   "name": "python3"
  },
  "language_info": {
   "codemirror_mode": {
    "name": "ipython",
    "version": 3
   },
   "file_extension": ".py",
   "mimetype": "text/x-python",
   "name": "python",
   "nbconvert_exporter": "python",
   "pygments_lexer": "ipython3",
   "version": "3.11.5"
  }
 },
 "nbformat": 4,
 "nbformat_minor": 5
}
